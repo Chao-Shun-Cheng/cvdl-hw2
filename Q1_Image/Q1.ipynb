{
 "cells": [
  {
   "cell_type": "code",
   "execution_count": 1,
   "metadata": {},
   "outputs": [],
   "source": [
    "import numpy as np\n",
    "import cv2\n",
    "import numpy"
   ]
  },
  {
   "cell_type": "code",
   "execution_count": 2,
   "metadata": {},
   "outputs": [],
   "source": [
    "# 1.1 Find Contour - Draw Contour\n",
    "coin01 = cv2.imread('coin01.jpg')\n",
    "coin01_gray = cv2.cvtColor(coin01, cv2.COLOR_RGB2GRAY)\n",
    "\n",
    "kernel_size = 11\n",
    "blur_coin01_gray = cv2.GaussianBlur(coin01_gray,(kernel_size, kernel_size), 0)\n",
    "\n",
    "low_threshold = 30\n",
    "high_threshold = 150\n",
    "coin01_edge = cv2.Canny(blur_coin01_gray, low_threshold, high_threshold)\n",
    "\n",
    "binary, coin01_contours, hierarchy = cv2.findContours(coin01_edge, cv2.RETR_EXTERNAL,cv2.CHAIN_APPROX_NONE)\n",
    "cv2.drawContours(coin01, coin01_contours, -1, (0,0,255), thickness = 2)\n",
    "\n",
    "coin02 = cv2.imread('coin02.jpg')\n",
    "coin02_gray = cv2.cvtColor(coin02, cv2.COLOR_RGB2GRAY)\n",
    "\n",
    "kernel_size = 11\n",
    "blur_coin02_gray = cv2.GaussianBlur(coin02_gray,(kernel_size, kernel_size), 0)\n",
    "\n",
    "low_threshold = 30\n",
    "high_threshold = 150\n",
    "coin02_edge = cv2.Canny(blur_coin02_gray, low_threshold, high_threshold)\n",
    "\n",
    "binary, coin02_contours, hierarchy = cv2.findContours(coin02_edge, cv2.RETR_EXTERNAL,cv2.CHAIN_APPROX_NONE)\n",
    "cv2.drawContours(coin02, coin02_contours, -1, (0,0,255), thickness = 2)\n",
    "\n",
    "cv2.imshow(\"coin01_contours\", coin01)\n",
    "cv2.imshow(\"coin02_contours\", coin02)\n",
    "cv2.waitKey(0) \n",
    "cv2.destroyAllWindows()\n",
    "\n",
    "number_coin01 = len(coin01_contours)\n",
    "number_coin02 = len(coin02_contours)"
   ]
  },
  {
   "cell_type": "code",
   "execution_count": 4,
   "metadata": {},
   "outputs": [
    {
     "name": "stdout",
     "output_type": "stream",
     "text": [
      "20\n"
     ]
    }
   ],
   "source": [
    "print(number_coin02)"
   ]
  },
  {
   "cell_type": "code",
   "execution_count": null,
   "metadata": {},
   "outputs": [],
   "source": []
  }
 ],
 "metadata": {
  "kernelspec": {
   "display_name": "Python 3",
   "language": "python",
   "name": "python3"
  },
  "language_info": {
   "codemirror_mode": {
    "name": "ipython",
    "version": 3
   },
   "file_extension": ".py",
   "mimetype": "text/x-python",
   "name": "python",
   "nbconvert_exporter": "python",
   "pygments_lexer": "ipython3",
   "version": "3.7.9"
  }
 },
 "nbformat": 4,
 "nbformat_minor": 4
}
