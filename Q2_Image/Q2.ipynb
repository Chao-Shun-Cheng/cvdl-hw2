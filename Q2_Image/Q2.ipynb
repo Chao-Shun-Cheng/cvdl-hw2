{
 "cells": [
  {
   "cell_type": "code",
   "execution_count": 80,
   "metadata": {},
   "outputs": [],
   "source": [
    "import numpy as np\n",
    "import cv2\n",
    "import numpy\n",
    "import math\n",
    "import glob"
   ]
  },
  {
   "cell_type": "code",
   "execution_count": 84,
   "metadata": {},
   "outputs": [],
   "source": [
    "# 2.1 Corner Detection\n",
    "w = 11\n",
    "h = 8\n",
    "criteria = (cv2.TERM_CRITERIA_EPS + cv2.TERM_CRITERIA_MAX_ITER, 30, 0.001)\n",
    "\n",
    "objp = np.zeros((w*h,3), np.float32)\n",
    "objp[:,:2] = np.mgrid[0:w,0:h].T.reshape(-1,2)\n",
    "\n",
    "objpoints = [] \n",
    "imgpoints = [] \n",
    "images = glob.glob(r'.\\*.bmp')\n",
    "\n",
    "for fname in images:\n",
    "    img = cv2.imread(fname)\n",
    "    gray = cv2.cvtColor(img,cv2.COLOR_BGR2GRAY)\n",
    "    # 找到棋盘格角点\n",
    "    ret, corners = cv2.findChessboardCorners(gray, (w,h),None)\n",
    "    # 如果找到足够点对，将其存储起来\n",
    "    if ret == True:  \n",
    "        cv2.cornerSubPix(gray,corners,(11,11),(-1,-1),criteria)\n",
    "        objpoints.append(objp)\n",
    "        imgpoints.append(corners)\n",
    "        # 将角点在图像上显示\n",
    "        cv2.drawChessboardCorners(img, (w,h), corners, ret)\n",
    "        img = cv2.resize(img, (960, 960))\n",
    "        cv2.namedWindow(\"findCorners\",cv2.WINDOW_AUTOSIZE)\n",
    "        cv2.imshow('findCorners',img)\n",
    "        cv2.waitKey(0)\n",
    "cv2.destroyAllWindows()"
   ]
  },
  {
   "cell_type": "code",
   "execution_count": 85,
   "metadata": {},
   "outputs": [
    {
     "name": "stdout",
     "output_type": "stream",
     "text": [
      "[[2.22339353e+03 0.00000000e+00 1.02888550e+03]\n",
      " [0.00000000e+00 2.22295242e+03 1.04050529e+03]\n",
      " [0.00000000e+00 0.00000000e+00 1.00000000e+00]]\n"
     ]
    }
   ],
   "source": [
    "# 2.2 Find the Intrinsic Matrix \n",
    "ret, mtx, dist, rvecs, tvecs = cv2.calibrateCamera(objpoints, imgpoints, gray.shape[::-1], None, None)\n",
    "print(mtx)"
   ]
  },
  {
   "cell_type": "code",
   "execution_count": 88,
   "metadata": {},
   "outputs": [
    {
     "name": "stdout",
     "output_type": "stream",
     "text": [
      "[[-0.81006559 -0.24317244  0.53353623  2.66420558]\n",
      " [-0.47211761 -0.26909386 -0.83946022  4.69878569]\n",
      " [ 0.34770491 -0.93190968  0.10317768 12.96473439]]\n"
     ]
    }
   ],
   "source": [
    "# 2.3 Find the Extrinsic Matrix \n",
    "def eulerAnglesToRotationMatrix(theta, tran) :\n",
    "    R_x = np.array([[1, 0, 0],\n",
    "                    [0, math.cos(theta[0]), -math.sin(theta[0])],\n",
    "                    [0, math.sin(theta[0]), math.cos(theta[0])]])\n",
    "    \n",
    "    R_y = np.array([[math.cos(theta[1]), 0, math.sin(theta[1])],\n",
    "                    [0, 1, 0],\n",
    "                    [-math.sin(theta[1]), 0, math.cos(theta[1])]])\n",
    "    \n",
    "    R_z = np.array([[math.cos(theta[2]), -math.sin(theta[2]), 0],\n",
    "                    [math.sin(theta[2]), math.cos(theta[2]), 0],\n",
    "                    [0, 0, 1]])\n",
    "    \n",
    "    R = np.dot(R_z, np.dot( R_y, R_x ))\n",
    "    extrinsic_matrix = np.concatenate((R,tran), axis=1)\n",
    "    return extrinsic_matrix\n",
    "print(eulerAnglesToRotationMatrix(rvecs[2], tvecs[2]))"
   ]
  },
  {
   "cell_type": "code",
   "execution_count": 87,
   "metadata": {},
   "outputs": [
    {
     "name": "stdout",
     "output_type": "stream",
     "text": [
      "[[-0.12851724  0.10091855 -0.00062626  0.00043284 -0.02310165]]\n"
     ]
    }
   ],
   "source": [
    "# 2.4 Find the Distortion Matrix \n",
    "print(dist)"
   ]
  },
  {
   "cell_type": "code",
   "execution_count": null,
   "metadata": {},
   "outputs": [],
   "source": []
  }
 ],
 "metadata": {
  "kernelspec": {
   "display_name": "Python 3",
   "language": "python",
   "name": "python3"
  },
  "language_info": {
   "codemirror_mode": {
    "name": "ipython",
    "version": 3
   },
   "file_extension": ".py",
   "mimetype": "text/x-python",
   "name": "python",
   "nbconvert_exporter": "python",
   "pygments_lexer": "ipython3",
   "version": "3.7.9"
  }
 },
 "nbformat": 4,
 "nbformat_minor": 4
}
