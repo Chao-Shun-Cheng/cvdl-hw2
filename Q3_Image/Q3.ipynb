{
 "cells": [
  {
   "cell_type": "code",
   "execution_count": 1,
   "metadata": {},
   "outputs": [],
   "source": [
    "import numpy as np\n",
    "import cv2\n",
    "import numpy\n",
    "import math\n",
    "import glob"
   ]
  },
  {
   "cell_type": "code",
   "execution_count": 2,
   "metadata": {},
   "outputs": [],
   "source": [
    "# 3. Augmented Reality \n",
    "w = 11\n",
    "h = 8\n",
    "criteria = (cv2.TERM_CRITERIA_EPS + cv2.TERM_CRITERIA_MAX_ITER, 30, 0.001)\n",
    "objp = np.zeros((w*h,3), np.float32)\n",
    "objp[:,:2] = np.mgrid[0:w,0:h].T.reshape(-1,2)\n",
    "\n",
    "objpoints = [] \n",
    "imgpoints = [] \n",
    "pyramidimgpoints = []\n",
    "images = glob.glob(r'.\\*.bmp')\n",
    "\n",
    "for fname in images:\n",
    "    img = cv2.imread(fname)\n",
    "    gray = cv2.cvtColor(img,cv2.COLOR_BGR2GRAY)\n",
    "    # 找到棋盘格角点\n",
    "    ret, corners = cv2.findChessboardCorners(gray, (w,h),None)\n",
    "    # 如果找到足够点对，将其存储起来\n",
    "    if ret == True:\n",
    "        cv2.cornerSubPix(gray,corners,(11,11),(-1,-1),criteria)\n",
    "        objpoints.append(objp)\n",
    "        imgpoints.append(corners)\n",
    "      "
   ]
  },
  {
   "cell_type": "code",
   "execution_count": 3,
   "metadata": {},
   "outputs": [],
   "source": [
    "ret, mtx, dist, rvecs, tvecs = cv2.calibrateCamera(objpoints, imgpoints, gray.shape[::-1], None, None)"
   ]
  },
  {
   "cell_type": "code",
   "execution_count": 19,
   "metadata": {},
   "outputs": [],
   "source": [
    "def draw(img, pyramidimgpoints):\n",
    "    for i in range(4):\n",
    "        for j in range(i + 1,4):\n",
    "            cv2.line(img, (int(pyramidimgpoints[i,:,:][0][0]),int(pyramidimgpoints[i,:,:][0][1])),\n",
    "                     (int(pyramidimgpoints[j,:,:][0][0]),int(pyramidimgpoints[j,:,:][0][1]))\n",
    "                     , (0, 0, 255), 5)\n",
    "    img = cv2.resize(img, (960, 960))\n",
    "    cv2.imshow('My Image', img)\n",
    "    cv2.waitKey(0)\n",
    "    cv2.destroyAllWindows()"
   ]
  },
  {
   "cell_type": "code",
   "execution_count": 29,
   "metadata": {},
   "outputs": [],
   "source": [
    "i = 0\n",
    "pyramidpoints = np.array([[1.,1.,0.],[5.,1.,0.],[3.,3.,-3.],[3.,5.,0.]])\n",
    "for fname in images:\n",
    "    img = cv2.imread(fname)\n",
    "    pyramidimgpoints, jacobian = cv2.projectPoints(pyramidpoints, rvecs[i], tvecs[i], mtx, dist)\n",
    "    draw(img, pyramidimgpoints)\n",
    "    i += 1"
   ]
  },
  {
   "cell_type": "code",
   "execution_count": 7,
   "metadata": {},
   "outputs": [],
   "source": [
    "pyramidimgpoints, jacobian = cv2.projectPoints(pyramidpoints, rvecs[0], tvecs[0], mtx, dist)"
   ]
  },
  {
   "cell_type": "code",
   "execution_count": 10,
   "metadata": {},
   "outputs": [
    {
     "data": {
      "text/plain": [
       "array([[1768.60672933, 1353.95612366]])"
      ]
     },
     "execution_count": 10,
     "metadata": {},
     "output_type": "execute_result"
    }
   ],
   "source": [
    "pyramidimgpoints[0,:,:]"
   ]
  },
  {
   "cell_type": "code",
   "execution_count": null,
   "metadata": {},
   "outputs": [],
   "source": []
  }
 ],
 "metadata": {
  "kernelspec": {
   "display_name": "Python 3",
   "language": "python",
   "name": "python3"
  },
  "language_info": {
   "codemirror_mode": {
    "name": "ipython",
    "version": 3
   },
   "file_extension": ".py",
   "mimetype": "text/x-python",
   "name": "python",
   "nbconvert_exporter": "python",
   "pygments_lexer": "ipython3",
   "version": "3.7.9"
  }
 },
 "nbformat": 4,
 "nbformat_minor": 4
}
